{
  "cells": [
    {
      "cell_type": "code",
      "execution_count": 20,
      "metadata": {
        "colab": {
          "base_uri": "https://localhost:8080/"
        },
        "id": "EIZj9ka9opDj",
        "outputId": "8066405e-902d-4b9d-f301-a13bb037b1d3"
      },
      "outputs": [
        {
          "name": "stdout",
          "output_type": "stream",
          "text": [
            "               Team Games played Goals Total XG Avg. possession Yellow cards  \\\n",
            "0           Arsenal            5     9      9.3            66.2            8   \n",
            "1       Aston Villa            5    11     10.9            50.8           13   \n",
            "2       Bournemouth            5     4      6.4            43.6            8   \n",
            "3         Brentford            5     8     10.2            48.0            9   \n",
            "4          Brighton            5    15     10.7            62.6           15   \n",
            "5           Burnley            4     4      2.9            48.3            9   \n",
            "6           Chelsea            5     5     10.2            69.2           16   \n",
            "7    Crystal Palace            5     6      6.9            46.4            6   \n",
            "8           Everton            5     2      7.5            41.8           10   \n",
            "9            Fulham            5     5      4.9            50.2           18   \n",
            "10        Liverpool            5    10     10.2            53.6            9   \n",
            "11       Luton Town            4     2      4.4            31.3            8   \n",
            "12  Manchester City            5    14     12.2            67.8            5   \n",
            "13   Manchester Utd            5     6      9.0            50.2           14   \n",
            "14    Newcastle Utd            5     8      8.3            50.4           17   \n",
            "15  Nott'ham Forest            5     7      5.2            35.4           14   \n",
            "16    Sheffield Utd            5     4      3.5            35.8           18   \n",
            "17        Tottenham            5    12      9.4            60.6           17   \n",
            "18         West Ham            5    10      7.9            35.6           15   \n",
            "19           Wolves            5     5      7.1            48.2           16   \n",
            "\n",
            "   Red cards  \n",
            "0          1  \n",
            "1          0  \n",
            "2          0  \n",
            "3          0  \n",
            "4          0  \n",
            "5          2  \n",
            "6          0  \n",
            "7          0  \n",
            "8          0  \n",
            "9          2  \n",
            "10         2  \n",
            "11         0  \n",
            "12         0  \n",
            "13         0  \n",
            "14         0  \n",
            "15         1  \n",
            "16         1  \n",
            "17         0  \n",
            "18         1  \n",
            "19         1  \n"
          ]
        }
      ],
      "source": [
        "from bs4 import BeautifulSoup\n",
        "import requests\n",
        "import re\n",
        "import pandas as pd\n",
        "\n",
        "# Downloading Premier League team data\n",
        "headers = {'Accept-Language': 'en-US,en;q=0.8'}\n",
        "url = 'https://fbref.com/en/comps/9/Premier-League-Stats'\n",
        "response = requests.get(url)\n",
        "soup = BeautifulSoup(response.text, \"html.parser\")\n",
        "\n",
        "data = []\n",
        "team_data = soup.find_all('tbody')[2]\n",
        "\n",
        "teams = []\n",
        "games = []\n",
        "goals = []\n",
        "xgs = []\n",
        "posessions = []\n",
        "yellow_cards = []\n",
        "red_cards = []\n",
        "\n",
        "for tr in team_data:\n",
        "  # for the empty tags\n",
        "  if tr.string != \" \":\n",
        "    teams.append(tr.a.contents[0])\n",
        "    games.append(tr.find('td', {'data-stat': 'games'}).contents[0])\n",
        "    goals.append(tr.find('td', {'data-stat': 'goals'}).contents[0])\n",
        "    xgs.append(tr.find('td', {'data-stat': 'xg'}).contents[0])\n",
        "    posessions.append(tr.find('td', {'data-stat': 'possession'}).contents[0])\n",
        "    yellow_cards.append(tr.find('td', {'data-stat': 'cards_yellow'}).contents[0])\n",
        "    red_cards.append(tr.find('td', {'data-stat': 'cards_red'}).contents[0])\n",
        "\n",
        "df = pd.DataFrame(\n",
        "    {'Team': teams,\n",
        "    'Games played': games,\n",
        "    'Goals': goals,\n",
        "    'Total XG': xgs,\n",
        "    'Avg. possession': posessions,\n",
        "    'Yellow cards': yellow_cards,\n",
        "    'Red cards': red_cards\n",
        "    })\n",
        "\n",
        "print (df)\n",
        "\n",
        "#couldn't test if this df.to_csv() works cause I can't install Python intepreter to my work computer\n",
        "df.to_csv('PL_teams.csv', index=False)"
      ]
    },
    {
      "cell_type": "code",
      "execution_count": null,
      "metadata": {},
      "outputs": [],
      "source": []
    }
  ],
  "metadata": {
    "colab": {
      "provenance": []
    },
    "kernelspec": {
      "display_name": "Python 3",
      "name": "python3"
    },
    "language_info": {
      "name": "python"
    }
  },
  "nbformat": 4,
  "nbformat_minor": 0
}
